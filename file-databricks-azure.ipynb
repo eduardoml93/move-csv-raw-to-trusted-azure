{
 "cells": [
  {
   "cell_type": "code",
   "execution_count": null,
   "metadata": {
    "application/vnd.databricks.v1+cell": {
     "cellMetadata": {
      "byteLimit": 2048000,
      "rowLimit": 10000
     },
     "inputWidgets": {},
     "nuid": "74a0fe10-d245-4425-a384-3a83453f67b6",
     "showTitle": false,
     "title": ""
    }
   },
   "outputs": [
    {
     "name": "stdout",
     "output_type": "stream",
     "text": [
      "Collecting azure-storage\r\n",
      "  Downloading azure-storage-0.37.0.zip (4.3 kB)\r\n",
      "\u001b[31m    ERROR: Command errored out with exit status 1:\r\n",
      "     command: /local_disk0/.ephemeral_nfs/envs/pythonEnv-dae1b1c0-8188-4c96-872f-67376dbf6111/bin/python -c 'import io, os, sys, setuptools, tokenize; sys.argv[0] = '\"'\"'/tmp/pip-install-2gzc32pg/azure-storage_40c0d99ffdc146f0a4edcdd77e14d7d7/setup.py'\"'\"'; __file__='\"'\"'/tmp/pip-install-2gzc32pg/azure-storage_40c0d99ffdc146f0a4edcdd77e14d7d7/setup.py'\"'\"';f = getattr(tokenize, '\"'\"'open'\"'\"', open)(__file__) if os.path.exists(__file__) else io.StringIO('\"'\"'from setuptools import setup; setup()'\"'\"');code = f.read().replace('\"'\"'\\r\\n'\"'\"', '\"'\"'\\n'\"'\"');f.close();exec(compile(code, __file__, '\"'\"'exec'\"'\"'))' egg_info --egg-base /tmp/pip-pip-egg-info-aus9fskk\r\n",
      "         cwd: /tmp/pip-install-2gzc32pg/azure-storage_40c0d99ffdc146f0a4edcdd77e14d7d7/\r\n",
      "    Complete output (19 lines):\r\n",
      "    Traceback (most recent call last):\r\n",
      "      File \"<string>\", line 1, in <module>\r\n",
      "      File \"/tmp/pip-install-2gzc32pg/azure-storage_40c0d99ffdc146f0a4edcdd77e14d7d7/setup.py\", line 55, in <module>\r\n",
      "        raise RuntimeError(message)\r\n",
      "    RuntimeError:\r\n",
      "    \r\n",
      "    Starting with v0.37.0, the 'azure-storage' meta-package is deprecated and cannot be installed anymore.\r\n",
      "    Please install the service specific packages prefixed by `azure` needed for your application.\r\n",
      "    \r\n",
      "    The complete list of available packages can be found at:\r\n",
      "    https://aka.ms/azsdk/python/all\r\n",
      "    \r\n",
      "    Here's a non-exhaustive list of common packages:\r\n",
      "    \r\n",
      "    - [azure-storage-blob](https://pypi.org/project/azure-storage-blob) : Blob storage client\r\n",
      "    - [azure-storage-file-share](https://pypi.org/project/azure-storage-file-share) : Storage file share client\r\n",
      "    - [azure-storage-file-datalake](https://pypi.org/project/azure-storage-file-datalake) : ADLS Gen2 client\r\n",
      "    - [azure-storage-queue](https://pypi.org/project/azure-storage-queue): Queue storage client\r\n",
      "    \r\n",
      "    ----------------------------------------\u001b[0m\r\n",
      "\u001b[33mWARNING: Discarding https://files.pythonhosted.org/packages/5d/cd/cac628adf6cb0086a24c20d76609445f1bf841483d56ec9f5645bbaa9ab7/azure-storage-0.37.0.zip#sha256=8c7b0e3867385172013aa396bc8d661145c029ede6515a467f299e020584bcea (from https://pypi.org/simple/azure-storage/). Command errored out with exit status 1: python setup.py egg_info Check the logs for full command output.\u001b[0m\r\n",
      "  Downloading azure_storage-0.36.0-py2.py3-none-any.whl (190 kB)\r\n",
      "\u001b[?25l\r\u001b[K     |█▊                              | 10 kB 23.2 MB/s eta 0:00:01\r\u001b[K     |███▍                            | 20 kB 29.6 MB/s eta 0:00:01\r\u001b[K     |█████▏                          | 30 kB 37.9 MB/s eta 0:00:01\r\u001b[K     |██████▉                         | 40 kB 29.4 MB/s eta 0:00:01\r\u001b[K     |████████▋                       | 51 kB 33.2 MB/s eta 0:00:01\r\u001b[K     |██████████▎                     | 61 kB 37.5 MB/s eta 0:00:01\r\u001b[K     |████████████                    | 71 kB 22.2 MB/s eta 0:00:01\r\u001b[K     |█████████████▊                  | 81 kB 23.8 MB/s eta 0:00:01\r\u001b[K     |███████████████▌                | 92 kB 25.9 MB/s eta 0:00:01\r\u001b[K     |█████████████████▏              | 102 kB 22.0 MB/s eta 0:00:01\r\u001b[K     |███████████████████             | 112 kB 22.0 MB/s eta 0:00:01\r\u001b[K     |████████████████████▋           | 122 kB 22.0 MB/s eta 0:00:01\r\u001b[K     |██████████████████████▎         | 133 kB 22.0 MB/s eta 0:00:01\r\u001b[K     |████████████████████████        | 143 kB 22.0 MB/s eta 0:00:01\r\u001b[K     |█████████████████████████▊      | 153 kB 22.0 MB/s eta 0:00:01\r\u001b[K     |███████████████████████████▌    | 163 kB 22.0 MB/s eta 0:00:01\r\u001b[K     |█████████████████████████████▏  | 174 kB 22.0 MB/s eta 0:00:01\r\u001b[K     |███████████████████████████████ | 184 kB 22.0 MB/s eta 0:00:01\r\u001b[K     |████████████████████████████████| 190 kB 57 kB/s \r\n",
      "\u001b[?25hRequirement already satisfied: cryptography in /databricks/python3/lib/python3.9/site-packages (from azure-storage) (3.4.8)\r\n",
      "Requirement already satisfied: python-dateutil in /databricks/python3/lib/python3.9/site-packages (from azure-storage) (2.8.2)\r\n",
      "Collecting azure-nspkg>=2.0.0\r\n",
      "  Downloading azure_nspkg-3.0.2-py3-none-any.whl (1.5 kB)\r\n",
      "Collecting azure-common>=1.1.5\r\n",
      "  Downloading azure_common-1.1.28-py2.py3-none-any.whl (14 kB)\r\n",
      "Requirement already satisfied: requests in /local_disk0/.ephemeral_nfs/cluster_libraries/python/lib/python3.9/site-packages (from azure-storage) (2.31.0)\r\n",
      "Requirement already satisfied: cffi>=1.12 in /databricks/python3/lib/python3.9/site-packages (from cryptography->azure-storage) (1.14.6)\r\n",
      "Requirement already satisfied: pycparser in /databricks/python3/lib/python3.9/site-packages (from cffi>=1.12->cryptography->azure-storage) (2.20)\r\n",
      "Requirement already satisfied: six>=1.5 in /databricks/python3/lib/python3.9/site-packages (from python-dateutil->azure-storage) (1.16.0)\r\n",
      "Requirement already satisfied: idna<4,>=2.5 in /databricks/python3/lib/python3.9/site-packages (from requests->azure-storage) (3.2)\r\n",
      "Requirement already satisfied: charset-normalizer<4,>=2 in /databricks/python3/lib/python3.9/site-packages (from requests->azure-storage) (2.0.4)\r\n",
      "Requirement already satisfied: urllib3<3,>=1.21.1 in /databricks/python3/lib/python3.9/site-packages (from requests->azure-storage) (1.26.7)\r\n",
      "Requirement already satisfied: certifi>=2017.4.17 in /databricks/python3/lib/python3.9/site-packages (from requests->azure-storage) (2021.10.8)\r\n",
      "Installing collected packages: azure-nspkg, azure-common, azure-storage\r\n",
      "Successfully installed azure-common-1.1.28 azure-nspkg-3.0.2 azure-storage-0.36.0\r\n",
      "\u001b[33mWARNING: You are using pip version 21.2.4; however, version 23.3.2 is available.\r\n",
      "You should consider upgrading via the '/local_disk0/.ephemeral_nfs/envs/pythonEnv-dae1b1c0-8188-4c96-872f-67376dbf6111/bin/python -m pip install --upgrade pip' command.\u001b[0m\r\n"
     ]
    }
   ],
   "source": [
    "!pip install azure-storage"
   ]
  },
  {
   "cell_type": "code",
   "execution_count": null,
   "metadata": {
    "application/vnd.databricks.v1+cell": {
     "cellMetadata": {
      "byteLimit": 2048000,
      "rowLimit": 10000
     },
     "inputWidgets": {},
     "nuid": "e69e88be-9b12-44ad-a5f0-ebfd104b1c92",
     "showTitle": false,
     "title": ""
    }
   },
   "outputs": [
    {
     "name": "stdout",
     "output_type": "stream",
     "text": [
      "Collecting azure-storage-blob\r\n",
      "  Downloading azure_storage_blob-12.19.0-py3-none-any.whl (394 kB)\r\n",
      "\u001b[?25l\r\u001b[K     |▉                               | 10 kB 28.2 MB/s eta 0:00:01\r\u001b[K     |█▋                              | 20 kB 4.7 MB/s eta 0:00:01\r\u001b[K     |██▌                             | 30 kB 6.7 MB/s eta 0:00:01\r\u001b[K     |███▎                            | 40 kB 8.7 MB/s eta 0:00:01\r\u001b[K     |████▏                           | 51 kB 10.7 MB/s eta 0:00:01\r\u001b[K     |█████                           | 61 kB 12.6 MB/s eta 0:00:01\r\u001b[K     |█████▉                          | 71 kB 12.7 MB/s eta 0:00:01\r\u001b[K     |██████▋                         | 81 kB 13.8 MB/s eta 0:00:01\r\u001b[K     |███████▌                        | 92 kB 15.1 MB/s eta 0:00:01\r\u001b[K     |████████▎                       | 102 kB 15.9 MB/s eta 0:00:01\r\u001b[K     |█████████▏                      | 112 kB 15.9 MB/s eta 0:00:01\r\u001b[K     |██████████                      | 122 kB 15.9 MB/s eta 0:00:01\r\u001b[K     |██████████▉                     | 133 kB 15.9 MB/s eta 0:00:01\r\u001b[K     |███████████▋                    | 143 kB 15.9 MB/s eta 0:00:01\r\u001b[K     |████████████▌                   | 153 kB 15.9 MB/s eta 0:00:01\r\u001b[K     |█████████████▎                  | 163 kB 15.9 MB/s eta 0:00:01\r\u001b[K     |██████████████▏                 | 174 kB 15.9 MB/s eta 0:00:01\r\u001b[K     |███████████████                 | 184 kB 15.9 MB/s eta 0:00:01\r\u001b[K     |███████████████▉                | 194 kB 15.9 MB/s eta 0:00:01\r\u001b[K     |████████████████▋               | 204 kB 15.9 MB/s eta 0:00:01\r\u001b[K     |█████████████████▌              | 215 kB 15.9 MB/s eta 0:00:01\r\u001b[K     |██████████████████▎             | 225 kB 15.9 MB/s eta 0:00:01\r\u001b[K     |███████████████████▏            | 235 kB 15.9 MB/s eta 0:00:01\r\u001b[K     |████████████████████            | 245 kB 15.9 MB/s eta 0:00:01\r\u001b[K     |████████████████████▉           | 256 kB 15.9 MB/s eta 0:00:01\r\u001b[K     |█████████████████████▋          | 266 kB 15.9 MB/s eta 0:00:01\r\u001b[K     |██████████████████████▍         | 276 kB 15.9 MB/s eta 0:00:01\r\u001b[K     |███████████████████████▎        | 286 kB 15.9 MB/s eta 0:00:01\r\u001b[K     |████████████████████████        | 296 kB 15.9 MB/s eta 0:00:01\r\u001b[K     |█████████████████████████       | 307 kB 15.9 MB/s eta 0:00:01\r\u001b[K     |█████████████████████████▊      | 317 kB 15.9 MB/s eta 0:00:01\r\u001b[K     |██████████████████████████▋     | 327 kB 15.9 MB/s eta 0:00:01\r\u001b[K     |███████████████████████████▍    | 337 kB 15.9 MB/s eta 0:00:01\r\u001b[K     |████████████████████████████▎   | 348 kB 15.9 MB/s eta 0:00:01\r\u001b[K     |█████████████████████████████   | 358 kB 15.9 MB/s eta 0:00:01\r\u001b[K     |██████████████████████████████  | 368 kB 15.9 MB/s eta 0:00:01\r\u001b[K     |██████████████████████████████▊ | 378 kB 15.9 MB/s eta 0:00:01\r\u001b[K     |███████████████████████████████▋| 389 kB 15.9 MB/s eta 0:00:01\r\u001b[K     |████████████████████████████████| 394 kB 15.9 MB/s \r\n",
      "\u001b[?25hRequirement already satisfied: typing-extensions>=4.3.0 in /local_disk0/.ephemeral_nfs/cluster_libraries/python/lib/python3.9/site-packages (from azure-storage-blob) (4.9.0)\r\n",
      "Collecting isodate>=0.6.1\r\n",
      "  Downloading isodate-0.6.1-py2.py3-none-any.whl (41 kB)\r\n",
      "\u001b[?25l\r\u001b[K     |███████▉                        | 10 kB 34.3 MB/s eta 0:00:01\r\u001b[K     |███████████████▊                | 20 kB 44.3 MB/s eta 0:00:01\r\u001b[K     |███████████████████████▋        | 30 kB 55.5 MB/s eta 0:00:01\r\u001b[K     |███████████████████████████████▍| 40 kB 63.3 MB/s eta 0:00:01\r\u001b[K     |████████████████████████████████| 41 kB 392 kB/s \r\n",
      "\u001b[?25hRequirement already satisfied: cryptography>=2.1.4 in /databricks/python3/lib/python3.9/site-packages (from azure-storage-blob) (3.4.8)\r\n",
      "Collecting azure-core<2.0.0,>=1.28.0\r\n",
      "  Downloading azure_core-1.29.6-py3-none-any.whl (192 kB)\r\n",
      "\u001b[?25l\r\u001b[K     |█▊                              | 10 kB 32.2 MB/s eta 0:00:01\r\u001b[K     |███▍                            | 20 kB 39.3 MB/s eta 0:00:01\r\u001b[K     |█████                           | 30 kB 49.5 MB/s eta 0:00:01\r\u001b[K     |██████▉                         | 40 kB 57.0 MB/s eta 0:00:01\r\u001b[K     |████████▌                       | 51 kB 62.8 MB/s eta 0:00:01\r\u001b[K     |██████████▏                     | 61 kB 68.7 MB/s eta 0:00:01\r\u001b[K     |████████████                    | 71 kB 72.5 MB/s eta 0:00:01\r\u001b[K     |█████████████▋                  | 81 kB 75.8 MB/s eta 0:00:01\r\u001b[K     |███████████████▎                | 92 kB 79.2 MB/s eta 0:00:01\r\u001b[K     |█████████████████               | 102 kB 81.3 MB/s eta 0:00:01\r\u001b[K     |██████████████████▊             | 112 kB 81.3 MB/s eta 0:00:01\r\u001b[K     |████████████████████▍           | 122 kB 81.3 MB/s eta 0:00:01\r\u001b[K     |██████████████████████▏         | 133 kB 81.3 MB/s eta 0:00:01\r\u001b[K     |███████████████████████▉        | 143 kB 81.3 MB/s eta 0:00:01\r\u001b[K     |█████████████████████████▌      | 153 kB 81.3 MB/s eta 0:00:01\r\u001b[K     |███████████████████████████▎    | 163 kB 81.3 MB/s eta 0:00:01\r\u001b[K     |█████████████████████████████   | 174 kB 81.3 MB/s eta 0:00:01\r\u001b[K     |██████████████████████████████▋ | 184 kB 81.3 MB/s eta 0:00:01\r\u001b[K     |████████████████████████████████| 192 kB 81.3 MB/s \r\n",
      "\u001b[?25hRequirement already satisfied: anyio<5.0,>=3.0 in /local_disk0/.ephemeral_nfs/cluster_libraries/python/lib/python3.9/site-packages (from azure-core<2.0.0,>=1.28.0->azure-storage-blob) (4.2.0)\r\n",
      "Requirement already satisfied: six>=1.11.0 in /databricks/python3/lib/python3.9/site-packages (from azure-core<2.0.0,>=1.28.0->azure-storage-blob) (1.16.0)\r\n",
      "Requirement already satisfied: requests>=2.21.0 in /local_disk0/.ephemeral_nfs/cluster_libraries/python/lib/python3.9/site-packages (from azure-core<2.0.0,>=1.28.0->azure-storage-blob) (2.31.0)\r\n",
      "Requirement already satisfied: idna>=2.8 in /databricks/python3/lib/python3.9/site-packages (from anyio<5.0,>=3.0->azure-core<2.0.0,>=1.28.0->azure-storage-blob) (3.2)\r\n",
      "Requirement already satisfied: exceptiongroup>=1.0.2 in /local_disk0/.ephemeral_nfs/cluster_libraries/python/lib/python3.9/site-packages (from anyio<5.0,>=3.0->azure-core<2.0.0,>=1.28.0->azure-storage-blob) (1.2.0)\r\n",
      "Requirement already satisfied: sniffio>=1.1 in /local_disk0/.ephemeral_nfs/cluster_libraries/python/lib/python3.9/site-packages (from anyio<5.0,>=3.0->azure-core<2.0.0,>=1.28.0->azure-storage-blob) (1.3.0)\r\n",
      "Requirement already satisfied: cffi>=1.12 in /databricks/python3/lib/python3.9/site-packages (from cryptography>=2.1.4->azure-storage-blob) (1.14.6)\r\n",
      "Requirement already satisfied: pycparser in /databricks/python3/lib/python3.9/site-packages (from cffi>=1.12->cryptography>=2.1.4->azure-storage-blob) (2.20)\r\n",
      "Requirement already satisfied: charset-normalizer<4,>=2 in /databricks/python3/lib/python3.9/site-packages (from requests>=2.21.0->azure-core<2.0.0,>=1.28.0->azure-storage-blob) (2.0.4)\r\n",
      "Requirement already satisfied: urllib3<3,>=1.21.1 in /databricks/python3/lib/python3.9/site-packages (from requests>=2.21.0->azure-core<2.0.0,>=1.28.0->azure-storage-blob) (1.26.7)\r\n",
      "Requirement already satisfied: certifi>=2017.4.17 in /databricks/python3/lib/python3.9/site-packages (from requests>=2.21.0->azure-core<2.0.0,>=1.28.0->azure-storage-blob) (2021.10.8)\r\n",
      "Installing collected packages: isodate, azure-core, azure-storage-blob\r\n",
      "Successfully installed azure-core-1.29.6 azure-storage-blob-12.19.0 isodate-0.6.1\r\n",
      "\u001b[33mWARNING: You are using pip version 21.2.4; however, version 23.3.2 is available.\r\n",
      "You should consider upgrading via the '/local_disk0/.ephemeral_nfs/envs/pythonEnv-dae1b1c0-8188-4c96-872f-67376dbf6111/bin/python -m pip install --upgrade pip' command.\u001b[0m\r\n"
     ]
    }
   ],
   "source": [
    "!pip install azure-storage-blob"
   ]
  },
  {
   "cell_type": "code",
   "execution_count": null,
   "metadata": {
    "application/vnd.databricks.v1+cell": {
     "cellMetadata": {
      "byteLimit": 2048000,
      "rowLimit": 10000
     },
     "inputWidgets": {},
     "nuid": "c4d463c9-bdf7-45d9-9b87-078b676fe059",
     "showTitle": false,
     "title": ""
    }
   },
   "outputs": [
    {
     "name": "stdout",
     "output_type": "stream",
     "text": [
      "Python interpreter will be restarted.\n",
      "Requirement already satisfied: azure-storage-blob in /local_disk0/.ephemeral_nfs/envs/pythonEnv-dae1b1c0-8188-4c96-872f-67376dbf6111/lib/python3.9/site-packages (12.19.0)\n",
      "Requirement already satisfied: typing-extensions>=4.3.0 in /local_disk0/.ephemeral_nfs/cluster_libraries/python/lib/python3.9/site-packages (from azure-storage-blob) (4.9.0)\n",
      "Requirement already satisfied: isodate>=0.6.1 in /local_disk0/.ephemeral_nfs/envs/pythonEnv-dae1b1c0-8188-4c96-872f-67376dbf6111/lib/python3.9/site-packages (from azure-storage-blob) (0.6.1)\n",
      "Requirement already satisfied: cryptography>=2.1.4 in /databricks/python3/lib/python3.9/site-packages (from azure-storage-blob) (3.4.8)\n",
      "Requirement already satisfied: azure-core<2.0.0,>=1.28.0 in /local_disk0/.ephemeral_nfs/envs/pythonEnv-dae1b1c0-8188-4c96-872f-67376dbf6111/lib/python3.9/site-packages (from azure-storage-blob) (1.29.6)\n",
      "Requirement already satisfied: anyio<5.0,>=3.0 in /local_disk0/.ephemeral_nfs/cluster_libraries/python/lib/python3.9/site-packages (from azure-core<2.0.0,>=1.28.0->azure-storage-blob) (4.2.0)\n",
      "Requirement already satisfied: six>=1.11.0 in /databricks/python3/lib/python3.9/site-packages (from azure-core<2.0.0,>=1.28.0->azure-storage-blob) (1.16.0)\n",
      "Requirement already satisfied: requests>=2.21.0 in /local_disk0/.ephemeral_nfs/cluster_libraries/python/lib/python3.9/site-packages (from azure-core<2.0.0,>=1.28.0->azure-storage-blob) (2.31.0)\n",
      "Requirement already satisfied: idna>=2.8 in /databricks/python3/lib/python3.9/site-packages (from anyio<5.0,>=3.0->azure-core<2.0.0,>=1.28.0->azure-storage-blob) (3.2)\n",
      "Requirement already satisfied: exceptiongroup>=1.0.2 in /local_disk0/.ephemeral_nfs/cluster_libraries/python/lib/python3.9/site-packages (from anyio<5.0,>=3.0->azure-core<2.0.0,>=1.28.0->azure-storage-blob) (1.2.0)\n",
      "Requirement already satisfied: sniffio>=1.1 in /local_disk0/.ephemeral_nfs/cluster_libraries/python/lib/python3.9/site-packages (from anyio<5.0,>=3.0->azure-core<2.0.0,>=1.28.0->azure-storage-blob) (1.3.0)\n",
      "Requirement already satisfied: cffi>=1.12 in /databricks/python3/lib/python3.9/site-packages (from cryptography>=2.1.4->azure-storage-blob) (1.14.6)\n",
      "Requirement already satisfied: pycparser in /databricks/python3/lib/python3.9/site-packages (from cffi>=1.12->cryptography>=2.1.4->azure-storage-blob) (2.20)\n",
      "Requirement already satisfied: charset-normalizer<4,>=2 in /databricks/python3/lib/python3.9/site-packages (from requests>=2.21.0->azure-core<2.0.0,>=1.28.0->azure-storage-blob) (2.0.4)\n",
      "Requirement already satisfied: urllib3<3,>=1.21.1 in /databricks/python3/lib/python3.9/site-packages (from requests>=2.21.0->azure-core<2.0.0,>=1.28.0->azure-storage-blob) (1.26.7)\n",
      "Requirement already satisfied: certifi>=2017.4.17 in /databricks/python3/lib/python3.9/site-packages (from requests>=2.21.0->azure-core<2.0.0,>=1.28.0->azure-storage-blob) (2021.10.8)\n",
      "Python interpreter will be restarted.\n"
     ]
    }
   ],
   "source": [
    "%pip install azure-storage-blob"
   ]
  },
  {
   "cell_type": "code",
   "execution_count": null,
   "metadata": {
    "application/vnd.databricks.v1+cell": {
     "cellMetadata": {
      "byteLimit": 2048000,
      "rowLimit": 10000
     },
     "inputWidgets": {},
     "nuid": "083ac954-be29-4d64-8796-94e6278e4b8a",
     "showTitle": false,
     "title": ""
    }
   },
   "outputs": [],
   "source": [
    "# Instale as bibliotecas necessárias\n",
    "# !pip install pandas azure-storage\n",
    "\n",
    "import pandas as pd\n",
    "from azure.storage.blob import BlobServiceClient\n",
    "import time\n",
    "\n",
    "# Defina sua connection string do Azure Storage\n",
    "connection_string = \"sua connection string do storage obtida no Portal Azure\"\n",
    "raw_name = \"nome do seu container Raw\"\n",
    "\n",
    "\n",
    "# Conecte ao Azure Storage\n",
    "\n",
    "blob_service_client = BlobServiceClient.from_connection_string(connection_string)\n",
    "container_client = blob_service_client.get_container_client(raw_name)\n",
    "blob_client = container_client.get_blob_client('dataset_fake_1.csv')\n",
    "\n",
    "if blob_client.exists():\n",
    "  with open('dataset_fake_1.csv', \"wb\") as my_blob:\n",
    "      download_stream = blob_client.download_blob()\n",
    "      my_blob.write(download_stream.readall())\n",
    "  df = pd.read_csv('dataset_fake_1.csv')\n",
    "else:\n",
    "  print(f\"dataset_fake_1.csv não existe no Azure Storage.\")\n",
    "\n"
   ]
  },
  {
   "cell_type": "code",
   "execution_count": null,
   "metadata": {
    "application/vnd.databricks.v1+cell": {
     "cellMetadata": {
      "byteLimit": 2048000,
      "rowLimit": 10000
     },
     "inputWidgets": {},
     "nuid": "b18242a6-3d7a-4c72-a8ab-0e03875e5b2a",
     "showTitle": false,
     "title": ""
    }
   },
   "outputs": [
    {
     "data": {
      "text/html": [
       "<div>\n",
       "<style scoped>\n",
       "    .dataframe tbody tr th:only-of-type {\n",
       "        vertical-align: middle;\n",
       "    }\n",
       "\n",
       "    .dataframe tbody tr th {\n",
       "        vertical-align: top;\n",
       "    }\n",
       "\n",
       "    .dataframe thead th {\n",
       "        text-align: right;\n",
       "    }\n",
       "</style>\n",
       "<table border=\"1\" class=\"dataframe\">\n",
       "  <thead>\n",
       "    <tr style=\"text-align: right;\">\n",
       "      <th></th>\n",
       "      <th>id</th>\n",
       "      <th>nome</th>\n",
       "      <th>cpf</th>\n",
       "      <th>email</th>\n",
       "      <th>contrato clt</th>\n",
       "      <th>valor salario</th>\n",
       "      <th>data inicio</th>\n",
       "      <th>data saida</th>\n",
       "    </tr>\n",
       "  </thead>\n",
       "  <tbody>\n",
       "    <tr>\n",
       "      <th>0</th>\n",
       "      <td>1</td>\n",
       "      <td>Bradley Reyes</td>\n",
       "      <td>759.123.222-22</td>\n",
       "      <td>danielobrien@yahoo.com</td>\n",
       "      <td>FALSO</td>\n",
       "      <td>5078.63</td>\n",
       "      <td>2019-12-25</td>\n",
       "      <td>NaN</td>\n",
       "    </tr>\n",
       "    <tr>\n",
       "      <th>1</th>\n",
       "      <td>2</td>\n",
       "      <td>Melissa Hall</td>\n",
       "      <td>759.748.011-30</td>\n",
       "      <td>darren39@king.com</td>\n",
       "      <td>VERDADEIRO</td>\n",
       "      <td>3030.30</td>\n",
       "      <td>2018-01-25</td>\n",
       "      <td>2020-08-23</td>\n",
       "    </tr>\n",
       "    <tr>\n",
       "      <th>2</th>\n",
       "      <td>3</td>\n",
       "      <td>Alyssa Fisher</td>\n",
       "      <td>735.408.323-27</td>\n",
       "      <td>travisandrew@yahoo.com</td>\n",
       "      <td>VERDADEIRO</td>\n",
       "      <td>5063.01</td>\n",
       "      <td>2014-05-17</td>\n",
       "      <td>2019-10-01</td>\n",
       "    </tr>\n",
       "    <tr>\n",
       "      <th>3</th>\n",
       "      <td>5</td>\n",
       "      <td>Ryan Hill</td>\n",
       "      <td>985.662.289-10</td>\n",
       "      <td>vfitzgerald@flores.com</td>\n",
       "      <td>VERDADEIRO</td>\n",
       "      <td>5038.77</td>\n",
       "      <td>2015-09-23</td>\n",
       "      <td>NaN</td>\n",
       "    </tr>\n",
       "    <tr>\n",
       "      <th>4</th>\n",
       "      <td>6</td>\n",
       "      <td>Brittany Pineda</td>\n",
       "      <td>841.712.716-06</td>\n",
       "      <td>williambolton@cox-thomas.com</td>\n",
       "      <td>VERDADEIRO</td>\n",
       "      <td>4994.69</td>\n",
       "      <td>2020-05-24</td>\n",
       "      <td>NaN</td>\n",
       "    </tr>\n",
       "  </tbody>\n",
       "</table>\n",
       "</div>"
      ]
     },
     "metadata": {
      "application/vnd.databricks.v1+output": {
       "addedWidgets": {},
       "arguments": {},
       "data": "<div>\n<style scoped>\n    .dataframe tbody tr th:only-of-type {\n        vertical-align: middle;\n    }\n\n    .dataframe tbody tr th {\n        vertical-align: top;\n    }\n\n    .dataframe thead th {\n        text-align: right;\n    }\n</style>\n<table border=\"1\" class=\"dataframe\">\n  <thead>\n    <tr style=\"text-align: right;\">\n      <th></th>\n      <th>id</th>\n      <th>nome</th>\n      <th>cpf</th>\n      <th>email</th>\n      <th>contrato clt</th>\n      <th>valor salario</th>\n      <th>data inicio</th>\n      <th>data saida</th>\n    </tr>\n  </thead>\n  <tbody>\n    <tr>\n      <th>0</th>\n      <td>1</td>\n      <td>Bradley Reyes</td>\n      <td>759.123.222-22</td>\n      <td>danielobrien@yahoo.com</td>\n      <td>FALSO</td>\n      <td>5078.63</td>\n      <td>2019-12-25</td>\n      <td>NaN</td>\n    </tr>\n    <tr>\n      <th>1</th>\n      <td>2</td>\n      <td>Melissa Hall</td>\n      <td>759.748.011-30</td>\n      <td>darren39@king.com</td>\n      <td>VERDADEIRO</td>\n      <td>3030.30</td>\n      <td>2018-01-25</td>\n      <td>2020-08-23</td>\n    </tr>\n    <tr>\n      <th>2</th>\n      <td>3</td>\n      <td>Alyssa Fisher</td>\n      <td>735.408.323-27</td>\n      <td>travisandrew@yahoo.com</td>\n      <td>VERDADEIRO</td>\n      <td>5063.01</td>\n      <td>2014-05-17</td>\n      <td>2019-10-01</td>\n    </tr>\n    <tr>\n      <th>3</th>\n      <td>5</td>\n      <td>Ryan Hill</td>\n      <td>985.662.289-10</td>\n      <td>vfitzgerald@flores.com</td>\n      <td>VERDADEIRO</td>\n      <td>5038.77</td>\n      <td>2015-09-23</td>\n      <td>NaN</td>\n    </tr>\n    <tr>\n      <th>4</th>\n      <td>6</td>\n      <td>Brittany Pineda</td>\n      <td>841.712.716-06</td>\n      <td>williambolton@cox-thomas.com</td>\n      <td>VERDADEIRO</td>\n      <td>4994.69</td>\n      <td>2020-05-24</td>\n      <td>NaN</td>\n    </tr>\n  </tbody>\n</table>\n</div>",
       "datasetInfos": [],
       "metadata": {},
       "removedWidgets": [],
       "textData": null,
       "type": "htmlSandbox"
      }
     },
     "output_type": "display_data"
    }
   ],
   "source": [
    "df.head()"
   ]
  },
  {
   "cell_type": "code",
   "execution_count": null,
   "metadata": {
    "application/vnd.databricks.v1+cell": {
     "cellMetadata": {
      "byteLimit": 2048000,
      "rowLimit": 10000
     },
     "inputWidgets": {},
     "nuid": "20c43d95-1990-4241-887b-c7fbf80ce939",
     "showTitle": false,
     "title": ""
    }
   },
   "outputs": [],
   "source": [
    "#depois de modificar o DF ... salvar \n",
    "df.to_csv('dataset_fake_1_modified.csv', index=False)\n",
    "\n",
    "trusted = \"st-trusted-dev\"\n",
    "container_client = blob_service_client.get_container_client(trusted)\n",
    "blob_client = container_client.get_blob_client('dataset_fake_1_modified.csv')\n",
    "with open('dataset_fake_1_modified.csv', \"rb\") as data:\n",
    "   blob_client.upload_blob(data, overwrite=True)\n",
    "\n",
    "import os\n",
    "#os.remove('dataset_fake_1.csv')\n",
    "os.remove('dataset_fake_1_modified.csv')\n"
   ]
  },
  {
   "cell_type": "code",
   "execution_count": null,
   "metadata": {
    "application/vnd.databricks.v1+cell": {
     "cellMetadata": {},
     "inputWidgets": {},
     "nuid": "39eba9ba-7dfc-4fb9-85bf-389ed72bee31",
     "showTitle": false,
     "title": ""
    }
   },
   "outputs": [],
   "source": []
  }
 ],
 "metadata": {
  "application/vnd.databricks.v1+notebook": {
   "dashboards": [],
   "language": "python",
   "notebookMetadata": {
    "pythonIndentUnit": 4
   },
   "notebookName": "file-databricks-azure",
   "widgets": {}
  },
  "language_info": {
   "name": "python"
  }
 },
 "nbformat": 4,
 "nbformat_minor": 0
}
